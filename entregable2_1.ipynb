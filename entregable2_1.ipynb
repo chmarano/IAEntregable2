{
  "nbformat": 4,
  "nbformat_minor": 0,
  "metadata": {
    "colab": {
      "name": "entregable2.1.ipynb",
      "version": "0.3.2",
      "provenance": [],
      "include_colab_link": true
    },
    "kernelspec": {
      "name": "python3",
      "display_name": "Python 3"
    }
  },
  "cells": [
    {
      "cell_type": "markdown",
      "metadata": {
        "id": "view-in-github",
        "colab_type": "text"
      },
      "source": [
        "<a href=\"https://colab.research.google.com/github/chmarano/IAEntregable2/blob/master/entregable2_1.ipynb\" target=\"_parent\"><img src=\"https://colab.research.google.com/assets/colab-badge.svg\" alt=\"Open In Colab\"/></a>"
      ]
    },
    {
      "metadata": {
        "id": "Gd4Q0zLGdR91",
        "colab_type": "text"
      },
      "cell_type": "markdown",
      "source": [
        "Cargamos la libreria numy y la libreria panda."
      ]
    },
    {
      "metadata": {
        "id": "u9FHYKt6bfid",
        "colab_type": "code",
        "colab": {}
      },
      "cell_type": "code",
      "source": [
        "import numpy as np\n",
        "import pandas as pd"
      ],
      "execution_count": 0,
      "outputs": []
    },
    {
      "metadata": {
        "id": "_D6xJblbc629",
        "colab_type": "code",
        "colab": {
          "base_uri": "https://localhost:8080/",
          "height": 204
        },
        "outputId": "78caa9cd-ffec-4f9f-ebee-a1b7dade64cc"
      },
      "cell_type": "code",
      "source": [
        "!wget https://raw.githubusercontent.com/chmarano/IAEntregable2/master/train.csv -O train.csv"
      ],
      "execution_count": 8,
      "outputs": [
        {
          "output_type": "stream",
          "text": [
            "--2019-04-10 18:33:12--  https://raw.githubusercontent.com/chmarano/IAEntregable2/master/train.csv\n",
            "Resolving raw.githubusercontent.com (raw.githubusercontent.com)... 151.101.0.133, 151.101.64.133, 151.101.128.133, ...\n",
            "Connecting to raw.githubusercontent.com (raw.githubusercontent.com)|151.101.0.133|:443... connected.\n",
            "HTTP request sent, awaiting response... 200 OK\n",
            "Length: 19171 (19K) [text/plain]\n",
            "Saving to: ‘train.csv’\n",
            "\n",
            "\rtrain.csv             0%[                    ]       0  --.-KB/s               \rtrain.csv           100%[===================>]  18.72K  --.-KB/s    in 0.01s   \n",
            "\n",
            "2019-04-10 18:33:12 (1.23 MB/s) - ‘train.csv’ saved [19171/19171]\n",
            "\n"
          ],
          "name": "stdout"
        }
      ]
    },
    {
      "metadata": {
        "id": "2L1NY00vdOpV",
        "colab_type": "code",
        "colab": {
          "base_uri": "https://localhost:8080/",
          "height": 204
        },
        "outputId": "6cf75cde-46f2-4bf8-9087-3e9b37e02359"
      },
      "cell_type": "code",
      "source": [
        "df = pd.read_csv('train.csv')\n",
        "df.head()"
      ],
      "execution_count": 9,
      "outputs": [
        {
          "output_type": "execute_result",
          "data": {
            "text/html": [
              "<div>\n",
              "<style scoped>\n",
              "    .dataframe tbody tr th:only-of-type {\n",
              "        vertical-align: middle;\n",
              "    }\n",
              "\n",
              "    .dataframe tbody tr th {\n",
              "        vertical-align: top;\n",
              "    }\n",
              "\n",
              "    .dataframe thead th {\n",
              "        text-align: right;\n",
              "    }\n",
              "</style>\n",
              "<table border=\"1\" class=\"dataframe\">\n",
              "  <thead>\n",
              "    <tr style=\"text-align: right;\">\n",
              "      <th></th>\n",
              "      <th>Age</th>\n",
              "      <th>Gender</th>\n",
              "      <th>Total_Bilirubin</th>\n",
              "      <th>Direct_Bilirubin</th>\n",
              "      <th>Alkaline_Phosphotase</th>\n",
              "      <th>Alamine_Aminotransferase</th>\n",
              "      <th>Aspartate_Aminotransferase</th>\n",
              "      <th>Total_Protiens</th>\n",
              "      <th>Albumin</th>\n",
              "      <th>Albumin_and_Globulin_Ratio</th>\n",
              "      <th>Prediction</th>\n",
              "    </tr>\n",
              "  </thead>\n",
              "  <tbody>\n",
              "    <tr>\n",
              "      <th>0</th>\n",
              "      <td>40</td>\n",
              "      <td>Male</td>\n",
              "      <td>1.9</td>\n",
              "      <td>1.0</td>\n",
              "      <td>231</td>\n",
              "      <td>16</td>\n",
              "      <td>55</td>\n",
              "      <td>4.3</td>\n",
              "      <td>1.6</td>\n",
              "      <td>0.6</td>\n",
              "      <td>False</td>\n",
              "    </tr>\n",
              "    <tr>\n",
              "      <th>1</th>\n",
              "      <td>64</td>\n",
              "      <td>Male</td>\n",
              "      <td>0.9</td>\n",
              "      <td>0.3</td>\n",
              "      <td>310</td>\n",
              "      <td>61</td>\n",
              "      <td>58</td>\n",
              "      <td>7.0</td>\n",
              "      <td>3.4</td>\n",
              "      <td>0.9</td>\n",
              "      <td>True</td>\n",
              "    </tr>\n",
              "    <tr>\n",
              "      <th>2</th>\n",
              "      <td>40</td>\n",
              "      <td>Female</td>\n",
              "      <td>2.1</td>\n",
              "      <td>1.0</td>\n",
              "      <td>768</td>\n",
              "      <td>74</td>\n",
              "      <td>141</td>\n",
              "      <td>7.8</td>\n",
              "      <td>4.9</td>\n",
              "      <td>1.6</td>\n",
              "      <td>False</td>\n",
              "    </tr>\n",
              "    <tr>\n",
              "      <th>3</th>\n",
              "      <td>32</td>\n",
              "      <td>Male</td>\n",
              "      <td>25.0</td>\n",
              "      <td>13.7</td>\n",
              "      <td>560</td>\n",
              "      <td>41</td>\n",
              "      <td>88</td>\n",
              "      <td>7.9</td>\n",
              "      <td>2.5</td>\n",
              "      <td>2.5</td>\n",
              "      <td>False</td>\n",
              "    </tr>\n",
              "    <tr>\n",
              "      <th>4</th>\n",
              "      <td>48</td>\n",
              "      <td>Male</td>\n",
              "      <td>0.7</td>\n",
              "      <td>0.2</td>\n",
              "      <td>326</td>\n",
              "      <td>29</td>\n",
              "      <td>17</td>\n",
              "      <td>8.7</td>\n",
              "      <td>5.5</td>\n",
              "      <td>1.7</td>\n",
              "      <td>False</td>\n",
              "    </tr>\n",
              "  </tbody>\n",
              "</table>\n",
              "</div>"
            ],
            "text/plain": [
              "   Age  Gender  Total_Bilirubin  Direct_Bilirubin  Alkaline_Phosphotase  \\\n",
              "0   40    Male              1.9               1.0                   231   \n",
              "1   64    Male              0.9               0.3                   310   \n",
              "2   40  Female              2.1               1.0                   768   \n",
              "3   32    Male             25.0              13.7                   560   \n",
              "4   48    Male              0.7               0.2                   326   \n",
              "\n",
              "   Alamine_Aminotransferase  Aspartate_Aminotransferase  Total_Protiens  \\\n",
              "0                        16                          55             4.3   \n",
              "1                        61                          58             7.0   \n",
              "2                        74                         141             7.8   \n",
              "3                        41                          88             7.9   \n",
              "4                        29                          17             8.7   \n",
              "\n",
              "   Albumin  Albumin_and_Globulin_Ratio  Prediction  \n",
              "0      1.6                         0.6       False  \n",
              "1      3.4                         0.9        True  \n",
              "2      4.9                         1.6       False  \n",
              "3      2.5                         2.5       False  \n",
              "4      5.5                         1.7       False  "
            ]
          },
          "metadata": {
            "tags": []
          },
          "execution_count": 9
        }
      ]
    },
    {
      "metadata": {
        "id": "6iV1as0IhtjH",
        "colab_type": "code",
        "colab": {
          "base_uri": "https://localhost:8080/",
          "height": 204
        },
        "outputId": "e49ecae3-4256-4f4c-b958-a47cf13e47a6"
      },
      "cell_type": "code",
      "source": [
        "!wget https://raw.githubusercontent.com/chmarano/IAEntregable2/master/test.csv -O test.csv"
      ],
      "execution_count": 10,
      "outputs": [
        {
          "output_type": "stream",
          "text": [
            "--2019-04-10 18:34:00--  https://raw.githubusercontent.com/chmarano/IAEntregable2/master/test.csv\n",
            "Resolving raw.githubusercontent.com (raw.githubusercontent.com)... 151.101.0.133, 151.101.64.133, 151.101.128.133, ...\n",
            "Connecting to raw.githubusercontent.com (raw.githubusercontent.com)|151.101.0.133|:443... connected.\n",
            "HTTP request sent, awaiting response... 200 OK\n",
            "Length: 5679 (5.5K) [text/plain]\n",
            "Saving to: ‘test.csv’\n",
            "\n",
            "\rtest.csv              0%[                    ]       0  --.-KB/s               \rtest.csv            100%[===================>]   5.55K  --.-KB/s    in 0s      \n",
            "\n",
            "2019-04-10 18:34:00 (66.3 MB/s) - ‘test.csv’ saved [5679/5679]\n",
            "\n"
          ],
          "name": "stdout"
        }
      ]
    },
    {
      "metadata": {
        "id": "-wvt8zy7iXoI",
        "colab_type": "code",
        "colab": {
          "base_uri": "https://localhost:8080/",
          "height": 119
        },
        "outputId": "f8c81355-8fd1-4715-c98d-eeb24b96bb30"
      },
      "cell_type": "code",
      "source": [
        "print(df.shape)\n",
        "print(df.columns)"
      ],
      "execution_count": 12,
      "outputs": [
        {
          "output_type": "stream",
          "text": [
            "(437, 11)\n",
            "Index(['Age', 'Gender', 'Total_Bilirubin', 'Direct_Bilirubin',\n",
            "       'Alkaline_Phosphotase', 'Alamine_Aminotransferase',\n",
            "       'Aspartate_Aminotransferase', 'Total_Protiens', 'Albumin',\n",
            "       'Albumin_and_Globulin_Ratio', 'Prediction'],\n",
            "      dtype='object')\n"
          ],
          "name": "stdout"
        }
      ]
    },
    {
      "metadata": {
        "id": "KxnM2Bg0jMjv",
        "colab_type": "code",
        "colab": {
          "base_uri": "https://localhost:8080/",
          "height": 306
        },
        "outputId": "de5e4061-661b-40a0-a506-24e1a425ef45"
      },
      "cell_type": "code",
      "source": [
        "print(df.info())"
      ],
      "execution_count": 13,
      "outputs": [
        {
          "output_type": "stream",
          "text": [
            "<class 'pandas.core.frame.DataFrame'>\n",
            "RangeIndex: 437 entries, 0 to 436\n",
            "Data columns (total 11 columns):\n",
            "Age                           437 non-null int64\n",
            "Gender                        437 non-null object\n",
            "Total_Bilirubin               437 non-null float64\n",
            "Direct_Bilirubin              437 non-null float64\n",
            "Alkaline_Phosphotase          437 non-null int64\n",
            "Alamine_Aminotransferase      437 non-null int64\n",
            "Aspartate_Aminotransferase    437 non-null int64\n",
            "Total_Protiens                437 non-null float64\n",
            "Albumin                       437 non-null float64\n",
            "Albumin_and_Globulin_Ratio    437 non-null float64\n",
            "Prediction                    437 non-null bool\n",
            "dtypes: bool(1), float64(5), int64(4), object(1)\n",
            "memory usage: 34.6+ KB\n",
            "None\n"
          ],
          "name": "stdout"
        }
      ]
    },
    {
      "metadata": {
        "id": "FDJmLPobkDaH",
        "colab_type": "code",
        "colab": {}
      },
      "cell_type": "code",
      "source": [
        "df['Prediction'] = df['Prediction'].astype('int64')"
      ],
      "execution_count": 0,
      "outputs": []
    },
    {
      "metadata": {
        "id": "AZ3C6Flsj0zQ",
        "colab_type": "code",
        "colab": {
          "base_uri": "https://localhost:8080/",
          "height": 297
        },
        "outputId": "b2e99e2e-ae18-4134-eb30-d321fd3c4a68"
      },
      "cell_type": "code",
      "source": [
        "df.describe()"
      ],
      "execution_count": 17,
      "outputs": [
        {
          "output_type": "execute_result",
          "data": {
            "text/html": [
              "<div>\n",
              "<style scoped>\n",
              "    .dataframe tbody tr th:only-of-type {\n",
              "        vertical-align: middle;\n",
              "    }\n",
              "\n",
              "    .dataframe tbody tr th {\n",
              "        vertical-align: top;\n",
              "    }\n",
              "\n",
              "    .dataframe thead th {\n",
              "        text-align: right;\n",
              "    }\n",
              "</style>\n",
              "<table border=\"1\" class=\"dataframe\">\n",
              "  <thead>\n",
              "    <tr style=\"text-align: right;\">\n",
              "      <th></th>\n",
              "      <th>Age</th>\n",
              "      <th>Total_Bilirubin</th>\n",
              "      <th>Direct_Bilirubin</th>\n",
              "      <th>Alkaline_Phosphotase</th>\n",
              "      <th>Alamine_Aminotransferase</th>\n",
              "      <th>Aspartate_Aminotransferase</th>\n",
              "      <th>Total_Protiens</th>\n",
              "      <th>Albumin</th>\n",
              "      <th>Albumin_and_Globulin_Ratio</th>\n",
              "      <th>Prediction</th>\n",
              "    </tr>\n",
              "  </thead>\n",
              "  <tbody>\n",
              "    <tr>\n",
              "      <th>count</th>\n",
              "      <td>437.000000</td>\n",
              "      <td>437.000000</td>\n",
              "      <td>437.000000</td>\n",
              "      <td>437.000000</td>\n",
              "      <td>437.000000</td>\n",
              "      <td>437.000000</td>\n",
              "      <td>437.000000</td>\n",
              "      <td>437.000000</td>\n",
              "      <td>437.000000</td>\n",
              "      <td>437.000000</td>\n",
              "    </tr>\n",
              "    <tr>\n",
              "      <th>mean</th>\n",
              "      <td>44.881007</td>\n",
              "      <td>3.291762</td>\n",
              "      <td>1.481465</td>\n",
              "      <td>290.757437</td>\n",
              "      <td>84.057208</td>\n",
              "      <td>114.210526</td>\n",
              "      <td>6.524714</td>\n",
              "      <td>3.180092</td>\n",
              "      <td>0.958238</td>\n",
              "      <td>0.290618</td>\n",
              "    </tr>\n",
              "    <tr>\n",
              "      <th>std</th>\n",
              "      <td>16.382597</td>\n",
              "      <td>6.377841</td>\n",
              "      <td>2.794080</td>\n",
              "      <td>243.309400</td>\n",
              "      <td>200.949407</td>\n",
              "      <td>322.074848</td>\n",
              "      <td>1.069224</td>\n",
              "      <td>0.778667</td>\n",
              "      <td>0.316748</td>\n",
              "      <td>0.454568</td>\n",
              "    </tr>\n",
              "    <tr>\n",
              "      <th>min</th>\n",
              "      <td>4.000000</td>\n",
              "      <td>0.400000</td>\n",
              "      <td>0.100000</td>\n",
              "      <td>63.000000</td>\n",
              "      <td>10.000000</td>\n",
              "      <td>10.000000</td>\n",
              "      <td>2.800000</td>\n",
              "      <td>1.400000</td>\n",
              "      <td>0.300000</td>\n",
              "      <td>0.000000</td>\n",
              "    </tr>\n",
              "    <tr>\n",
              "      <th>25%</th>\n",
              "      <td>33.000000</td>\n",
              "      <td>0.800000</td>\n",
              "      <td>0.200000</td>\n",
              "      <td>175.000000</td>\n",
              "      <td>23.000000</td>\n",
              "      <td>25.000000</td>\n",
              "      <td>5.800000</td>\n",
              "      <td>2.600000</td>\n",
              "      <td>0.750000</td>\n",
              "      <td>0.000000</td>\n",
              "    </tr>\n",
              "    <tr>\n",
              "      <th>50%</th>\n",
              "      <td>45.000000</td>\n",
              "      <td>1.000000</td>\n",
              "      <td>0.300000</td>\n",
              "      <td>208.000000</td>\n",
              "      <td>35.000000</td>\n",
              "      <td>42.000000</td>\n",
              "      <td>6.600000</td>\n",
              "      <td>3.100000</td>\n",
              "      <td>1.000000</td>\n",
              "      <td>0.000000</td>\n",
              "    </tr>\n",
              "    <tr>\n",
              "      <th>75%</th>\n",
              "      <td>58.000000</td>\n",
              "      <td>2.600000</td>\n",
              "      <td>1.300000</td>\n",
              "      <td>298.000000</td>\n",
              "      <td>60.000000</td>\n",
              "      <td>85.000000</td>\n",
              "      <td>7.200000</td>\n",
              "      <td>3.800000</td>\n",
              "      <td>1.100000</td>\n",
              "      <td>1.000000</td>\n",
              "    </tr>\n",
              "    <tr>\n",
              "      <th>max</th>\n",
              "      <td>90.000000</td>\n",
              "      <td>75.000000</td>\n",
              "      <td>19.700000</td>\n",
              "      <td>2110.000000</td>\n",
              "      <td>2000.000000</td>\n",
              "      <td>4929.000000</td>\n",
              "      <td>9.600000</td>\n",
              "      <td>5.500000</td>\n",
              "      <td>2.800000</td>\n",
              "      <td>1.000000</td>\n",
              "    </tr>\n",
              "  </tbody>\n",
              "</table>\n",
              "</div>"
            ],
            "text/plain": [
              "              Age  Total_Bilirubin  Direct_Bilirubin  Alkaline_Phosphotase  \\\n",
              "count  437.000000       437.000000        437.000000            437.000000   \n",
              "mean    44.881007         3.291762          1.481465            290.757437   \n",
              "std     16.382597         6.377841          2.794080            243.309400   \n",
              "min      4.000000         0.400000          0.100000             63.000000   \n",
              "25%     33.000000         0.800000          0.200000            175.000000   \n",
              "50%     45.000000         1.000000          0.300000            208.000000   \n",
              "75%     58.000000         2.600000          1.300000            298.000000   \n",
              "max     90.000000        75.000000         19.700000           2110.000000   \n",
              "\n",
              "       Alamine_Aminotransferase  Aspartate_Aminotransferase  Total_Protiens  \\\n",
              "count                437.000000                  437.000000      437.000000   \n",
              "mean                  84.057208                  114.210526        6.524714   \n",
              "std                  200.949407                  322.074848        1.069224   \n",
              "min                   10.000000                   10.000000        2.800000   \n",
              "25%                   23.000000                   25.000000        5.800000   \n",
              "50%                   35.000000                   42.000000        6.600000   \n",
              "75%                   60.000000                   85.000000        7.200000   \n",
              "max                 2000.000000                 4929.000000        9.600000   \n",
              "\n",
              "          Albumin  Albumin_and_Globulin_Ratio  Prediction  \n",
              "count  437.000000                  437.000000  437.000000  \n",
              "mean     3.180092                    0.958238    0.290618  \n",
              "std      0.778667                    0.316748    0.454568  \n",
              "min      1.400000                    0.300000    0.000000  \n",
              "25%      2.600000                    0.750000    0.000000  \n",
              "50%      3.100000                    1.000000    0.000000  \n",
              "75%      3.800000                    1.100000    1.000000  \n",
              "max      5.500000                    2.800000    1.000000  "
            ]
          },
          "metadata": {
            "tags": []
          },
          "execution_count": 17
        }
      ]
    },
    {
      "metadata": {
        "id": "I5aCgQIekrmf",
        "colab_type": "code",
        "colab": {
          "base_uri": "https://localhost:8080/",
          "height": 173
        },
        "outputId": "638db974-9923-4846-8fe9-630f4a672b12"
      },
      "cell_type": "code",
      "source": [
        "df.describe(include=['object', 'bool'])"
      ],
      "execution_count": 18,
      "outputs": [
        {
          "output_type": "execute_result",
          "data": {
            "text/html": [
              "<div>\n",
              "<style scoped>\n",
              "    .dataframe tbody tr th:only-of-type {\n",
              "        vertical-align: middle;\n",
              "    }\n",
              "\n",
              "    .dataframe tbody tr th {\n",
              "        vertical-align: top;\n",
              "    }\n",
              "\n",
              "    .dataframe thead th {\n",
              "        text-align: right;\n",
              "    }\n",
              "</style>\n",
              "<table border=\"1\" class=\"dataframe\">\n",
              "  <thead>\n",
              "    <tr style=\"text-align: right;\">\n",
              "      <th></th>\n",
              "      <th>Gender</th>\n",
              "    </tr>\n",
              "  </thead>\n",
              "  <tbody>\n",
              "    <tr>\n",
              "      <th>count</th>\n",
              "      <td>437</td>\n",
              "    </tr>\n",
              "    <tr>\n",
              "      <th>unique</th>\n",
              "      <td>2</td>\n",
              "    </tr>\n",
              "    <tr>\n",
              "      <th>top</th>\n",
              "      <td>Male</td>\n",
              "    </tr>\n",
              "    <tr>\n",
              "      <th>freq</th>\n",
              "      <td>327</td>\n",
              "    </tr>\n",
              "  </tbody>\n",
              "</table>\n",
              "</div>"
            ],
            "text/plain": [
              "       Gender\n",
              "count     437\n",
              "unique      2\n",
              "top      Male\n",
              "freq      327"
            ]
          },
          "metadata": {
            "tags": []
          },
          "execution_count": 18
        }
      ]
    },
    {
      "metadata": {
        "id": "wExNabC9kuW3",
        "colab_type": "code",
        "colab": {
          "base_uri": "https://localhost:8080/",
          "height": 68
        },
        "outputId": "96e875aa-30c1-45da-d449-f7afa292c446"
      },
      "cell_type": "code",
      "source": [
        "df['Prediction'].value_counts()"
      ],
      "execution_count": 20,
      "outputs": [
        {
          "output_type": "execute_result",
          "data": {
            "text/plain": [
              "0    310\n",
              "1    127\n",
              "Name: Prediction, dtype: int64"
            ]
          },
          "metadata": {
            "tags": []
          },
          "execution_count": 20
        }
      ]
    },
    {
      "metadata": {
        "id": "NllGmnUVk-vg",
        "colab_type": "code",
        "colab": {
          "base_uri": "https://localhost:8080/",
          "height": 68
        },
        "outputId": "3a820519-9e4b-4f82-d700-c08a9b3c031c"
      },
      "cell_type": "code",
      "source": [
        "df['Prediction'].value_counts(normalize=True)"
      ],
      "execution_count": 21,
      "outputs": [
        {
          "output_type": "execute_result",
          "data": {
            "text/plain": [
              "0    0.709382\n",
              "1    0.290618\n",
              "Name: Prediction, dtype: float64"
            ]
          },
          "metadata": {
            "tags": []
          },
          "execution_count": 21
        }
      ]
    }
  ]
}